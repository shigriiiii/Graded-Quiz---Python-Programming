{
  "nbformat": 4,
  "nbformat_minor": 0,
  "metadata": {
    "colab": {
      "provenance": []
    },
    "kernelspec": {
      "name": "python3",
      "display_name": "Python 3"
    },
    "language_info": {
      "name": "python"
    }
  },
  "cells": [
    {
      "cell_type": "code",
      "execution_count": 33,
      "metadata": {
        "id": "PDHpf-hf2Ep2"
      },
      "outputs": [],
      "source": [
        "import pandas as pd\n",
        "df = pd.read_csv('/content/FoodBalanceSheets_E_Africa_NOFLAG.csv',encoding = 'latin-1')\n"
      ]
    },
    {
      "cell_type": "code",
      "source": [
        "grouped = df.groupby('Element').sum()\n",
        "\n",
        "\n",
        "year_columns = ['Y2014', 'Y2015', 'Y2016', 'Y2017']\n",
        "highest_sum_year = grouped[year_columns].sum(axis=0).idxmax()\n",
        "\n",
        "\n",
        "print(\"Year with the highest sum of Stock Variation:\", highest_sum_year)"
      ],
      "metadata": {
        "colab": {
          "base_uri": "https://localhost:8080/"
        },
        "id": "dqQQcAZS4Knh",
        "outputId": "f866a889-ebbc-4c52-fe80-df6de2c30eb7"
      },
      "execution_count": 34,
      "outputs": [
        {
          "output_type": "stream",
          "name": "stdout",
          "text": [
            "Year with the highest sum of Stock Variation: Y2017\n"
          ]
        }
      ]
    },
    {
      "cell_type": "code",
      "source": [
        "selected_data = df[['Y2017', 'Area']]\n",
        "grouped = selected_data.groupby('Area').sum()\n",
        "max_sum_2017 = grouped['Y2017'].max()\n",
        "areas_highest_sum_2017 = grouped[grouped['Y2017'] == max_sum_2017].index.tolist()\n",
        "print(\"Areas with the highest sum in 2017:\", areas_highest_sum_2017)"
      ],
      "metadata": {
        "colab": {
          "base_uri": "https://localhost:8080/"
        },
        "id": "Hvz3hYRB5Y1y",
        "outputId": "482224e2-c541-4abc-c338-97f6414cdf07"
      },
      "execution_count": 35,
      "outputs": [
        {
          "output_type": "stream",
          "name": "stdout",
          "text": [
            "Areas with the highest sum in 2017: ['Nigeria']\n"
          ]
        }
      ]
    },
    {
      "cell_type": "code",
      "source": [
        "total_unique_countries = df['Area'].nunique()\n",
        "\n",
        "print(\"Total number of unique countries in the dataset:\", total_unique_countries)"
      ],
      "metadata": {
        "colab": {
          "base_uri": "https://localhost:8080/"
        },
        "id": "l1h1SviV5k7u",
        "outputId": "881c00b4-b114-43ea-ab35-502a598057e7"
      },
      "execution_count": 36,
      "outputs": [
        {
          "output_type": "stream",
          "name": "stdout",
          "text": [
            "Total number of unique countries in the dataset: 49\n"
          ]
        }
      ]
    },
    {
      "cell_type": "code",
      "source": [
        "data_2017 = df[['Y2017']]\n",
        "mean_2017 = data_2017.mean().values[0]\n",
        "std_dev_2017 = data_2017.std().values[0]\n",
        "print(\"Mean for the year 2017:\", \"{:.2f}\".format(mean_2017))\n",
        "print(\"Standard deviation for the year 2017:\", \"{:.2f}\".format(std_dev_2017))"
      ],
      "metadata": {
        "colab": {
          "base_uri": "https://localhost:8080/"
        },
        "id": "Eu8ZACJ451z6",
        "outputId": "9bcd05a8-1f7a-4b98-8355-16213d583375"
      },
      "execution_count": 37,
      "outputs": [
        {
          "output_type": "stream",
          "name": "stdout",
          "text": [
            "Mean for the year 2017: 140.92\n",
            "Standard deviation for the year 2017: 1671.86\n"
          ]
        }
      ]
    },
    {
      "cell_type": "code",
      "source": [
        "my_tuppy = (1,2,5,8)\n",
        "\n",
        "my_tuppy[2] = 6"
      ],
      "metadata": {
        "colab": {
          "base_uri": "https://localhost:8080/",
          "height": 176
        },
        "id": "DfcyNNe06LMe",
        "outputId": "f651faae-7470-4236-a44e-b2de0bbd26c4"
      },
      "execution_count": 38,
      "outputs": [
        {
          "output_type": "error",
          "ename": "TypeError",
          "evalue": "'tuple' object does not support item assignment",
          "traceback": [
            "\u001b[0;31m---------------------------------------------------------------------------\u001b[0m",
            "\u001b[0;31mTypeError\u001b[0m                                 Traceback (most recent call last)",
            "\u001b[0;32m<ipython-input-38-ce1543b3be47>\u001b[0m in \u001b[0;36m<cell line: 3>\u001b[0;34m()\u001b[0m\n\u001b[1;32m      1\u001b[0m \u001b[0mmy_tuppy\u001b[0m \u001b[0;34m=\u001b[0m \u001b[0;34m(\u001b[0m\u001b[0;36m1\u001b[0m\u001b[0;34m,\u001b[0m\u001b[0;36m2\u001b[0m\u001b[0;34m,\u001b[0m\u001b[0;36m5\u001b[0m\u001b[0;34m,\u001b[0m\u001b[0;36m8\u001b[0m\u001b[0;34m)\u001b[0m\u001b[0;34m\u001b[0m\u001b[0;34m\u001b[0m\u001b[0m\n\u001b[1;32m      2\u001b[0m \u001b[0;34m\u001b[0m\u001b[0m\n\u001b[0;32m----> 3\u001b[0;31m \u001b[0mmy_tuppy\u001b[0m\u001b[0;34m[\u001b[0m\u001b[0;36m2\u001b[0m\u001b[0;34m]\u001b[0m \u001b[0;34m=\u001b[0m \u001b[0;36m6\u001b[0m\u001b[0;34m\u001b[0m\u001b[0;34m\u001b[0m\u001b[0m\n\u001b[0m",
            "\u001b[0;31mTypeError\u001b[0m: 'tuple' object does not support item assignment"
          ]
        }
      ]
    },
    {
      "cell_type": "code",
      "source": [
        "missing_data_2014 = df['Y2014'].isnull().sum()\n",
        "total_rows = len(df)\n",
        "percentage_missing_2014 = (missing_data_2014 / total_rows) * 100\n",
        "print(\"Total number of missing data in 2014:\", missing_data_2014)\n",
        "print(\"Percentage of missing data in 2014:\", \"{:.3f}%\".format(percentage_missing_2014))"
      ],
      "metadata": {
        "colab": {
          "base_uri": "https://localhost:8080/"
        },
        "id": "z7EjwqwZ6LyJ",
        "outputId": "485060dd-16aa-4086-cde8-47f9148f2034"
      },
      "execution_count": 40,
      "outputs": [
        {
          "output_type": "stream",
          "name": "stdout",
          "text": [
            "Total number of missing data in 2014: 1589\n",
            "Percentage of missing data in 2014: 2.607%\n"
          ]
        }
      ]
    },
    {
      "cell_type": "code",
      "source": [
        "S = [['him', 'sell'], [90, 28, 43]]\n",
        "\n",
        "S[0][1][1]"
      ],
      "metadata": {
        "colab": {
          "base_uri": "https://localhost:8080/",
          "height": 36
        },
        "id": "Q0sD2AHt6aHU",
        "outputId": "087dec5d-f654-470b-eba1-8305c62fec9e"
      },
      "execution_count": 41,
      "outputs": [
        {
          "output_type": "execute_result",
          "data": {
            "text/plain": [
              "'e'"
            ],
            "application/vnd.google.colaboratory.intrinsic+json": {
              "type": "string"
            }
          },
          "metadata": {},
          "execution_count": 41
        }
      ]
    },
    {
      "cell_type": "code",
      "source": [
        "total_protein_supply_madagascar_2015 = round(madagascar_2015['Y2015'].sum(), 2)\n",
        "\n",
        "\n",
        "print(\"Total Protein supply quantity in Madagascar in 2015:\", total_protein_supply_madagascar_2015)\n"
      ],
      "metadata": {
        "colab": {
          "base_uri": "https://localhost:8080/"
        },
        "id": "b9SrYOWj7Sn4",
        "outputId": "39217b83-dc8b-40e1-9171-4fafe08b3345"
      },
      "execution_count": 42,
      "outputs": [
        {
          "output_type": "stream",
          "name": "stdout",
          "text": [
            "Total Protein supply quantity in Madagascar in 2015: 173.05\n"
          ]
        }
      ]
    },
    {
      "cell_type": "code",
      "source": [
        "wine_production = df[df['Item'] == 'Wine']\n",
        "wine_production_sum = wine_production.groupby('Item').sum()\n",
        "wine_production_2015 = wine_production_sum['Y2015'].values[0]\n",
        "wine_production_2018 = wine_production_sum['Y2018'].values[0]\n",
        "print(\"Total sum of Wine produced in 2015:\", wine_production_2015)\n",
        "print(\"Total sum of Wine produced in 2018:\", wine_production_2018)\n"
      ],
      "metadata": {
        "colab": {
          "base_uri": "https://localhost:8080/"
        },
        "id": "Gb0k2D7r7vAW",
        "outputId": "db74b6f2-68b7-4622-e386-8b21268bab14"
      },
      "execution_count": 43,
      "outputs": [
        {
          "output_type": "stream",
          "name": "stdout",
          "text": [
            "Total sum of Wine produced in 2015: 4251.81\n",
            "Total sum of Wine produced in 2018: 4039.32\n"
          ]
        }
      ]
    },
    {
      "cell_type": "code",
      "source": [
        "df.shape"
      ],
      "metadata": {
        "colab": {
          "base_uri": "https://localhost:8080/"
        },
        "id": "8m_cDuuT8keO",
        "outputId": "c9c471ff-fd4f-49de-9b6a-76d3c70321b6"
      },
      "execution_count": 44,
      "outputs": [
        {
          "output_type": "execute_result",
          "data": {
            "text/plain": [
              "(60943, 12)"
            ]
          },
          "metadata": {},
          "execution_count": 44
        }
      ]
    },
    {
      "cell_type": "code",
      "source": [
        "y = [(2, 4), (7, 8), (1, 5, 9)]\n",
        "print(y[1][1])"
      ],
      "metadata": {
        "colab": {
          "base_uri": "https://localhost:8080/"
        },
        "id": "yfnLjvCD8tO8",
        "outputId": "8dd04cf1-889a-403a-d00c-fc879e659118"
      },
      "execution_count": 45,
      "outputs": [
        {
          "output_type": "stream",
          "name": "stdout",
          "text": [
            "8\n"
          ]
        }
      ]
    },
    {
      "cell_type": "code",
      "source": [
        "print(y[1][-1])"
      ],
      "metadata": {
        "colab": {
          "base_uri": "https://localhost:8080/"
        },
        "id": "YdLKMrbi9BrR",
        "outputId": "1bae1762-4c17-4785-fac5-75fb62653aad"
      },
      "execution_count": 46,
      "outputs": [
        {
          "output_type": "stream",
          "name": "stdout",
          "text": [
            "8\n"
          ]
        }
      ]
    },
    {
      "cell_type": "code",
      "source": [
        "correlation_coefficients = []\n",
        "for year in df.columns[df.columns.str.startswith('Y')]:\n",
        "    correlation = df['Element Code'].corr(df[year])\n",
        "    correlation_coefficients.append((year, correlation))\n",
        "correlation_coefficients.sort(key=lambda x: x[1])\n",
        "year_least_correlation = correlation_coefficients[0][0]\n",
        "print(\"Year with the least correlation with 'Element Code':\", year_least_correlation)\n",
        "\n"
      ],
      "metadata": {
        "colab": {
          "base_uri": "https://localhost:8080/"
        },
        "id": "7sO4J5Ox9Fie",
        "outputId": "e6db7225-9125-415d-80db-d257c1cd694e"
      },
      "execution_count": 47,
      "outputs": [
        {
          "output_type": "stream",
          "name": "stdout",
          "text": [
            "Year with the least correlation with 'Element Code': Y2016\n"
          ]
        }
      ]
    },
    {
      "cell_type": "code",
      "source": [
        "processing_2017 = df[(df['Element'] == 'Processing') & (df['Y2017'].notnull())]\n",
        "total_processing_2017 = processing_2017.groupby('Element')['Y2017'].sum().get('Processing', 0)\n",
        "print(\"Total sum of Processing in 2017:\", total_processing_2017)\n"
      ],
      "metadata": {
        "colab": {
          "base_uri": "https://localhost:8080/"
        },
        "id": "9lHHhkm79P6N",
        "outputId": "62f4206f-03cf-4dde-a71b-8a3281b98fa6"
      },
      "execution_count": 48,
      "outputs": [
        {
          "output_type": "stream",
          "name": "stdout",
          "text": [
            "Total sum of Processing in 2017: 292836.0\n"
          ]
        }
      ]
    },
    {
      "cell_type": "code",
      "source": [
        "selected_data = df[['Y2017', 'Area']]\n",
        "grouped = selected_data.groupby('Area').sum()\n",
        "sorted_sums = grouped.sort_values(by='Y2017')\n",
        "area_7th_lowest_sum = sorted_sums.index[6]\n",
        "print(\"Area with the 7th lowest sum in 2017:\", area_7th_lowest_sum)"
      ],
      "metadata": {
        "colab": {
          "base_uri": "https://localhost:8080/"
        },
        "id": "Ks8hlTDR-VXs",
        "outputId": "66f61e10-1d40-4c9e-9a99-bcbf217365c4"
      },
      "execution_count": 49,
      "outputs": [
        {
          "output_type": "stream",
          "name": "stdout",
          "text": [
            "Area with the 7th lowest sum in 2017: Guinea-Bissau\n"
          ]
        }
      ]
    }
  ]
}